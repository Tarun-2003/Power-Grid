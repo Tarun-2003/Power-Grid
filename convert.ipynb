{
 "cells": [
  {
   "cell_type": "code",
   "execution_count": null,
   "id": "95786217",
   "metadata": {},
   "outputs": [
    {
     "name": "stdout",
     "output_type": "stream",
     "text": [
      "Data extracted and saved to cytoscape_data.json\n"
     ]
    }
   ],
   "source": [
    "import re\n",
    "import json\n",
    "\n",
    "def extract_nodes_and_edges(filepath):\n",
    "    with open(filepath, 'r') as f:\n",
    "        lines = f.readlines()\n",
    "\n",
    "    nodes = []\n",
    "    edges = []\n",
    "\n",
    "    reading_bus = False\n",
    "    reading_branch = False\n",
    "\n",
    "    for line in lines:\n",
    "        line = line.strip()\n",
    "\n",
    "        # Detect the start of bus data\n",
    "        if line.startswith('mpc.bus = ['):\n",
    "            reading_bus = True\n",
    "            continue\n",
    "        if reading_bus and line.startswith('];'):\n",
    "            reading_bus = False\n",
    "            continue\n",
    "\n",
    "        # Detect the start of branch data\n",
    "        if line.startswith('mpc.branch = ['):\n",
    "            reading_branch = True\n",
    "            continue\n",
    "        if reading_branch and line.startswith('];'):\n",
    "            reading_branch = False\n",
    "            continue\n",
    "\n",
    "        # Parse bus lines\n",
    "        if reading_bus and re.match(r'^\\d+', line):\n",
    "            parts = re.split(r'\\s+', line)\n",
    "            bus_id = int(parts[0])\n",
    "            voltage = float(parts[9])\n",
    "            nodes.append({\n",
    "                \"data\": {\n",
    "                    \"id\": str(bus_id),\n",
    "                    \"voltage\": voltage\n",
    "                }\n",
    "            })\n",
    "\n",
    "        # Parse branch lines\n",
    "        if reading_branch and re.match(r'^\\d+', line):\n",
    "            parts = re.split(r'\\s+', line)\n",
    "            source = str(int(parts[0]))\n",
    "            target = str(int(parts[1]))\n",
    "            # Only one direction for undirected graph\n",
    "            edges.append({\n",
    "                \"data\": {\n",
    "                    \"source\": source,\n",
    "                    \"target\": target\n",
    "                }\n",
    "            })\n",
    "\n",
    "    return {\"nodes\": nodes, \"edges\": edges}\n",
    "\n",
    "\n",
    "\n",
    "filename = input(\"Please enter the path to the dataset file (e.g., pglib_opf_case30_ieee.m): \")\n",
    "\n",
    "\n",
    "data = extract_nodes_and_edges(filename)\n",
    "\n",
    "\n",
    "output_filename = \"cytoscape_data.json\"; \n",
    "with open(output_filename, 'w') as f:\n",
    "    json.dump(data, f, indent=2)\n",
    "\n",
    "print(f\"Data extracted and saved to {output_filename}\")\n"
   ]
  }
 ],
 "metadata": {
  "kernelspec": {
   "display_name": "base",
   "language": "python",
   "name": "python3"
  },
  "language_info": {
   "codemirror_mode": {
    "name": "ipython",
    "version": 3
   },
   "file_extension": ".py",
   "mimetype": "text/x-python",
   "name": "python",
   "nbconvert_exporter": "python",
   "pygments_lexer": "ipython3",
   "version": "3.12.4"
  }
 },
 "nbformat": 4,
 "nbformat_minor": 5
}
